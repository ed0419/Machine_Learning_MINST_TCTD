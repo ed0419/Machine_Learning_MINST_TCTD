{
 "cells": [
  {
   "cell_type": "markdown",
   "metadata": {
    "colab_type": "text",
    "id": "vqJTrf3vHxaY"
   },
   "source": [
    "#### 人類的大腦很神奇，可以輕鬆的辨識出數字。  而且當我們換上代表相同數字的其他寫法，即使內容前後組成有所差異，也都能被輕易地辨識出來。\n",
    "\n",
    "#### 不過當我們希望寫個程式來重現這樣的能力，瞬間就會變成非常困難的任務！\n",
    "\n",
    "#### 神經網路是讓機器學習解決這個問題的很好途徑。 先讓我們看看什麼事MNIST\n"
   ]
  },
  {
   "cell_type": "markdown",
   "metadata": {},
   "source": [
    "\n",
    "## MNIST手寫數字辨識資料集\n",
    "\n",
    "Mnist 資料集(Modified National Institute of Standards and Technology database)，是由紐約大學 Yann LeCun教授蒐集整理許多人0到9的手寫數字圖片所形成的資料集，其中包含了60000筆的訓練資料，10000 筆的測試資料。\n",
    "\n",
    "在Mnist 資料集中，每一筆資料都是由 images (數字圖片) 和 labels (真實數字) 組成的單色圖片資料，很適合機器學習的初學者，練習建立模型、訓練和預測。\n",
    "\n",
    "Mnist 資料集的應用範圍很廣，除了進行機器學習的練習，還可以真正使用在生活中，例如用來辨識支票的手寫金額、電話號碼、車牌號碼，甚至改考卷呢！\n",
    "\n",
    "\n",
    "* 資料量不會太多，單色較簡單\n",
    "* 適於練習建立模型，訓練，預測\n"
   ]
  },
  {
   "cell_type": "code",
   "execution_count": null,
   "metadata": {},
   "outputs": [],
   "source": [
    "## STEP 1 :匯入Keras 及相關模組\n",
    "\n",
    "import numpy as np\n",
    "import pandas as pd\n",
    "import keras\n",
    "from keras.utils import np_utils\n",
    "from matplotlib.pyplot import imshow\n",
    "\n",
    "\n",
    "## Step 2:匯入MNIST 模組\n",
    "from keras.datasets import mnist\n",
    "\n",
    "## Step 3: 讀取MNIST資料\n",
    "(x_train_image, y_train_label), (x_test_image, y_test_label) = mnist.load_data()"
   ]
  },
  {
   "cell_type": "code",
   "execution_count": null,
   "metadata": {},
   "outputs": [],
   "source": [
    "## Step 4: 查看 MNIST 資料\n",
    "print( len(x_train_image), 'train samples')\n",
    "print( len(x_test_image), 'test samples')"
   ]
  },
  {
   "cell_type": "markdown",
   "metadata": {},
   "source": [
    "* MNIST資料集是由60,000筆訓練資料、10,000筆測試資料所組成。"
   ]
  },
  {
   "cell_type": "code",
   "execution_count": null,
   "metadata": {},
   "outputs": [],
   "source": [
    "print('x_train image', x_train_image.shape )\n",
    "print('y_train label', y_train_label.shape )"
   ]
  },
  {
   "cell_type": "markdown",
   "metadata": {
    "colab_type": "text",
    "id": "4_leEj25JUMc"
   },
   "source": [
    "* print(x_train_image.shape) 的輸出告訴我們有 60,000 張訓練圖片，每張圖片都有 28 x 28  個數字\n",
    "* print(y_train label.shape) 的輸出告訴我們的是這 60,000 張訓練圖片的真實答案"
   ]
  },
  {
   "cell_type": "markdown",
   "metadata": {
    "colab_type": "text",
    "id": "6rQWsu65H8tq"
   },
   "source": [
    "# 查看單筆訓練資料"
   ]
  },
  {
   "cell_type": "markdown",
   "metadata": {
    "colab_type": "text",
    "id": "BAyibjQsI9pT"
   },
   "source": [
    "* 顯示 image, 每個資料長得像這樣 28 x 28 的黑白數字圖案    每一張圖片就可以用 28 x 28 = 784 個數字來紀錄"
   ]
  },
  {
   "cell_type": "code",
   "execution_count": null,
   "metadata": {},
   "outputs": [],
   "source": [
    "print (x_train_image[0])"
   ]
  },
  {
   "cell_type": "markdown",
   "metadata": {
    "colab_type": "text",
    "id": "EhKUrsI8Ioyw"
   },
   "source": [
    "* 顯示 images 數字影像"
   ]
  },
  {
   "cell_type": "code",
   "execution_count": null,
   "metadata": {},
   "outputs": [],
   "source": [
    "import  matplotlib.pyplot as plt\n",
    "plt.imshow(x_train_image[0] ,cmap='gray')\n",
    "plt.title('Label:'+str(y_train_label[0]))\n",
    "plt.show()"
   ]
  },
  {
   "cell_type": "markdown",
   "metadata": {
    "colab_type": "text",
    "id": "vUrK8PpaLsyW"
   },
   "source": [
    "# 查看多筆訓練資料 images and label\n"
   ]
  },
  {
   "cell_type": "code",
   "execution_count": null,
   "metadata": {},
   "outputs": [],
   "source": [
    "import  matplotlib.pyplot as plt\n",
    "fig = plt.figure(figsize=(10,10))\n",
    "\n",
    "for i in range(25):\n",
    "  ax = plt.subplot(5,5,i+1)\n",
    "  ax.imshow(x_train_image[i] ,cmap='gray')\n",
    "  ax.set_title('Label:'+str(y_train_label[i]))\n",
    "  ax.axis('off')\n",
    "plt.subplots_adjust( hspace=0.5)\n",
    "plt.show()\n"
   ]
  }
 ],
 "metadata": {
  "colab": {
   "authorship_tag": "ABX9TyOy3N2CPF2het/5ig5JJt+4",
   "collapsed_sections": [],
   "name": "MNIST.ipynb",
   "provenance": []
  },
  "kernelspec": {
   "display_name": "Python 3",
   "language": "python",
   "name": "python3"
  },
  "language_info": {
   "codemirror_mode": {
    "name": "ipython",
    "version": 3
   },
   "file_extension": ".py",
   "mimetype": "text/x-python",
   "name": "python",
   "nbconvert_exporter": "python",
   "pygments_lexer": "ipython3",
   "version": "3.7.4"
  }
 },
 "nbformat": 4,
 "nbformat_minor": 4
}
