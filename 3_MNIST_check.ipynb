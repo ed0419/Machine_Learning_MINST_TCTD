{
 "cells": [
  {
   "cell_type": "markdown",
   "metadata": {
    "colab_type": "text",
    "id": "OYVsBH41KS-T"
   },
   "source": [
    "# 使用 Multilayer perceptron ( MLP )\n",
    "\n",
    "---\n",
    "使用自己的模型 辨識自己輸入的數字"
   ]
  },
  {
   "cell_type": "code",
   "execution_count": null,
   "metadata": {},
   "outputs": [],
   "source": [
    "import numpy as np\n",
    "import pandas as pd\n",
    "from tensorflow.keras.datasets import mnist\n",
    "from tensorflow.keras.models import Sequential\n",
    "from tensorflow.keras.models import load_model\n",
    "from tensorflow.keras.utils import to_categorical\n",
    "from PIL import Image\n",
    "import  matplotlib.pyplot as plt\n",
    "\n",
    "\n",
    "\n",
    "model = load_model(\"mnist_mlp_h256.h5\")\n"
   ]
  },
  {
   "cell_type": "code",
   "execution_count": null,
   "metadata": {},
   "outputs": [],
   "source": [
    "# 讀取圖片\n",
    "img = Image.open('Image_4.png')\n",
    "\n",
    "\n",
    "fig = plt.figure(figsize=(4,4))\n",
    "plt.imshow( img ,cmap='gray')\n",
    "plt.title('original figure')\n",
    "plt.show()\n",
    "\n",
    "\n",
    "\n",
    "if img.size[0] != 28 or img.size[1] != 28:\n",
    "    img = img.resize((28, 28))\n",
    "\n",
    "fig = plt.figure(figsize=(4,4))\n",
    "plt.imshow( img ,cmap='gray')\n",
    "plt.title('reshape figure')\n",
    "plt.show()\n",
    "\n",
    "\n",
    "\n",
    "pix_val = list(img.getdata())\n",
    "\n",
    "arr = [] \n",
    "for i in range(28):\n",
    "    for j in range(28):\n",
    "       \n",
    "        pixel = float( pix_val[28*i+j][2]  )/255.0\n",
    "        arr.append(pixel)\n",
    "\n",
    "        \n",
    "        \n",
    "arr1 = np.array(arr).reshape((1, 28*28))\n",
    "arrImg = np.array(arr).reshape(( 28, 28))\n"
   ]
  },
  {
   "cell_type": "code",
   "execution_count": null,
   "metadata": {},
   "outputs": [],
   "source": [
    "import  matplotlib.pyplot as plt\n",
    "\n",
    "# 繪出圖表的預測結果\n",
    "plt.figure()\n",
    "plt.subplot(1,2,1)\n",
    "\n",
    "plt.imshow( arrImg ,cmap='gray')\n",
    "plt.axis('off')\n",
    "\n",
    "# 預測結果的機率\n",
    "print(\"Predicting ...\")\n",
    "probs = model.predict(arr1) \n",
    "\n",
    "plt.subplot(1,2,2)\n",
    "#plt.title(\"Probabilities for Each Digit Class\")\n",
    "plt.bar(np.arange(10), probs[0], align=\"center\")\n",
    "plt.xticks(np.arange(10),np.arange(10).astype(str))\n",
    "plt.show()\n"
   ]
  },
  {
   "cell_type": "code",
   "execution_count": null,
   "metadata": {},
   "outputs": [],
   "source": []
  }
 ],
 "metadata": {
  "colab": {
   "authorship_tag": "ABX9TyMFm1Cg5DivAwKg9xj2gEhw",
   "name": "MNIST_MLP.ipynb",
   "provenance": []
  },
  "kernelspec": {
   "display_name": "Python 3",
   "language": "python",
   "name": "python3"
  },
  "language_info": {
   "codemirror_mode": {
    "name": "ipython",
    "version": 3
   },
   "file_extension": ".py",
   "mimetype": "text/x-python",
   "name": "python",
   "nbconvert_exporter": "python",
   "pygments_lexer": "ipython3",
   "version": "3.7.4"
  }
 },
 "nbformat": 4,
 "nbformat_minor": 4
}
