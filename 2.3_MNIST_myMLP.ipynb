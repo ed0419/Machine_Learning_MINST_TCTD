{
 "cells": [
  {
   "cell_type": "markdown",
   "metadata": {},
   "source": [
    "## 增進效率, 解決過度擬合的問題\n",
    "1.  增加隱藏層的神經元數\n",
    "2.  新增一層隱藏層\n",
    "3.  使用Dropout\n",
    "4. 使用convolutional neural network (CNN)"
   ]
  },
  {
   "cell_type": "markdown",
   "metadata": {},
   "source": [
    "# 建立自己的模型"
   ]
  },
  {
   "cell_type": "code",
   "execution_count": null,
   "metadata": {},
   "outputs": [],
   "source": [
    "import numpy as np\n",
    "from keras.datasets import mnist\n",
    "from keras.models import Sequential\n",
    "from keras.layers import Dense\n",
    "from keras.layers import Dropout\n",
    "from keras.utils import to_categorical\n",
    "\n",
    "# 指定亂數種子\n",
    "seed = 7\n",
    "np.random.seed(seed)\n",
    "\n",
    "# 載入資料集\n",
    "(X_train, Y_train), (X_test, Y_test) = mnist.load_data()\n",
    "\n",
    "# 將 28*28 圖片轉換成 784 的向量\n",
    "X_train = X_train.reshape(X_train.shape[0], 28*28).astype(\"float32\")\n",
    "X_test = X_test.reshape(X_test.shape[0], 28*28).astype(\"float32\")\n",
    "\n",
    "# 因為是固定範圍, 所以執行正規化, 從 0-255 至 0-1\n",
    "X_train = X_train / 255\n",
    "X_test = X_test / 255\n",
    "\n",
    "\n",
    "# One-hot編碼\n",
    "Y_train = to_categorical(Y_train)\n",
    "Y_test = to_categorical(Y_test)\n",
    "\n",
    "\n",
    "\n",
    "\n",
    "\n",
    "# 定義模型\n",
    "model = Sequential()\n",
    "model.add(Dense( units=256, input_dim=28*28, activation=\"relu\"))\n",
    "#model.add(Dropout(0.5))   # 多層感知器加入 Dropout\n",
    "#model.add(Dense( units=256, activation=\"relu\"))   \n",
    "model.add(Dense( units=10, activation=\"softmax\"))\n",
    "model.summary()   # 顯示模型摘要資訊\n",
    "\n",
    "\n",
    "\n",
    "# 編譯模型\n",
    "model.compile(loss=\"categorical_crossentropy\", optimizer=\"adam\",\n",
    "              metrics=[\"accuracy\"])\n",
    "# 訓練模型\n",
    "history = model.fit(X_train, Y_train, validation_split=0.2,\n",
    "                    epochs=10, batch_size=128, verbose=2)\n",
    "# 評估模型\n",
    "print(\"\\nTesting ...\")\n",
    "loss, accuracy = model.evaluate(X_train, Y_train)\n",
    "print(\"訓練資料集的準確度 = {:.2f}\".format(accuracy))\n",
    "loss, accuracy = model.evaluate(X_test, Y_test)\n",
    "print(\"測試資料集的準確度 = {:.2f}\".format(accuracy))\n",
    "\n",
    "model.save('mnist_mymodel.h5')"
   ]
  },
  {
   "cell_type": "code",
   "execution_count": null,
   "metadata": {},
   "outputs": [],
   "source": [
    "# 顯示圖表來分析模型的訓練過程\n",
    "\n",
    "import matplotlib.pyplot as plt\n",
    "# 顯示訓練和驗證損失\n",
    "loss = history.history[\"loss\"]\n",
    "epochs = range(1, len(loss)+1)\n",
    "val_loss = history.history[\"val_loss\"]\n",
    "plt.plot(epochs, loss, \"bo-\", label=\"Training Loss\")\n",
    "plt.plot(epochs, val_loss, \"ro--\", label=\"Validation Loss\")\n",
    "plt.title(\"Training and Validation Loss\")\n",
    "plt.xlabel(\"Epochs\")\n",
    "plt.ylabel(\"Loss\")\n",
    "plt.legend()\n",
    "plt.show()\n",
    "\n",
    "\n",
    "# 顯示訓練和驗證準確度\n",
    "\n",
    "acc = history.history['acc']\n",
    "epochs = range(1, len(acc)+1)\n",
    "val_acc = history.history['val_acc']\n",
    "\n",
    "plt.plot(epochs, acc, \"bo-\", label=\"Training Acc\")\n",
    "plt.plot(epochs, val_acc, \"ro--\", label=\"Validation Acc\")\n",
    "plt.title(\"Training and Validation Accuracy\")\n",
    "plt.xlabel(\"Epochs\")\n",
    "plt.ylabel(\"Accuracy\")\n",
    "plt.legend()\n",
    "plt.show()"
   ]
  }
 ],
 "metadata": {
  "kernelspec": {
   "display_name": "Python 3",
   "language": "python",
   "name": "python3"
  },
  "language_info": {
   "codemirror_mode": {
    "name": "ipython",
    "version": 3
   },
   "file_extension": ".py",
   "mimetype": "text/x-python",
   "name": "python",
   "nbconvert_exporter": "python",
   "pygments_lexer": "ipython3",
   "version": "3.7.4"
  }
 },
 "nbformat": 4,
 "nbformat_minor": 4
}
